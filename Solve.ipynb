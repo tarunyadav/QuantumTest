{
 "nbformat": 4,
 "nbformat_minor": 2,
 "metadata": {
  "language_info": {
   "name": "python",
   "codemirror_mode": {
    "name": "ipython",
    "version": 3
   },
   "version": "3.7.10-final"
  },
  "orig_nbformat": 2,
  "file_extension": ".py",
  "mimetype": "text/x-python",
  "name": "python",
  "npconvert_exporter": "python",
  "pygments_lexer": "ipython3",
  "version": 3,
  "kernelspec": {
   "name": "python371064bit3cdbd3f0b9254310b67d595fe8ae73ac",
   "display_name": "Python 3.7.10 64-bit"
  }
 },
 "cells": [
  {
   "cell_type": "code",
   "execution_count": 4,
   "metadata": {},
   "outputs": [
    {
     "output_type": "stream",
     "name": "stdout",
     "text": "Requirement already satisfied: dwave-qiskit-plugin in /workspace/.pip-modules/lib/python3.7/site-packages (0.1.0)\nRequirement already satisfied: qiskit-aqua>=0.8.0 in /workspace/.pip-modules/lib/python3.7/site-packages (from dwave-qiskit-plugin) (0.9.2)\nRequirement already satisfied: dwave-system>=1.2.0 in /usr/local/lib/python3.7/site-packages (from dwave-qiskit-plugin) (1.4.0)\nRequirement already satisfied: dwave-cloud-client<0.9.0,>=0.8.4 in /usr/local/lib/python3.7/site-packages (from dwave-system>=1.2.0->dwave-qiskit-plugin) (0.8.4)\nRequirement already satisfied: numpy<2.0.0,>=1.14.0 in /usr/local/lib/python3.7/site-packages (from dwave-system>=1.2.0->dwave-qiskit-plugin) (1.19.5)\nRequirement already satisfied: networkx<3.0,>=2.0 in /usr/local/lib/python3.7/site-packages (from dwave-system>=1.2.0->dwave-qiskit-plugin) (2.5)\nRequirement already satisfied: homebase<2.0.0,>=1.0.0 in /usr/local/lib/python3.7/site-packages (from dwave-system>=1.2.0->dwave-qiskit-plugin) (1.0.1)\nRequirement already satisfied: dwave-tabu>=0.2.0 in /usr/local/lib/python3.7/site-packages (from dwave-system>=1.2.0->dwave-qiskit-plugin) (0.3.1)\nRequirement already satisfied: dwave-networkx>=0.8.4 in /usr/local/lib/python3.7/site-packages (from dwave-system>=1.2.0->dwave-qiskit-plugin) (0.8.8)\nRequirement already satisfied: dimod<0.10.0,>=0.9.11 in /usr/local/lib/python3.7/site-packages (from dwave-system>=1.2.0->dwave-qiskit-plugin) (0.9.13)\nRequirement already satisfied: minorminer<0.3.0,>=0.2.4 in /usr/local/lib/python3.7/site-packages (from dwave-system>=1.2.0->dwave-qiskit-plugin) (0.2.5)\nRequirement already satisfied: click>=7.0 in /usr/local/lib/python3.7/site-packages (from dwave-cloud-client<0.9.0,>=0.8.4->dwave-system>=1.2.0->dwave-qiskit-plugin) (7.1.2)\nRequirement already satisfied: plucky>=0.4.3 in /usr/local/lib/python3.7/site-packages (from dwave-cloud-client<0.9.0,>=0.8.4->dwave-system>=1.2.0->dwave-qiskit-plugin) (0.4.3)\nRequirement already satisfied: requests[socks]>=2.18 in /usr/local/lib/python3.7/site-packages (from dwave-cloud-client<0.9.0,>=0.8.4->dwave-system>=1.2.0->dwave-qiskit-plugin) (2.25.1)\nRequirement already satisfied: python-dateutil>=2.7 in /usr/local/lib/python3.7/site-packages (from dwave-cloud-client<0.9.0,>=0.8.4->dwave-system>=1.2.0->dwave-qiskit-plugin) (2.8.1)\nRequirement already satisfied: decorator<5.0.0,>=4.1.0 in /usr/local/lib/python3.7/site-packages (from dwave-networkx>=0.8.4->dwave-system>=1.2.0->dwave-qiskit-plugin) (4.4.2)\nRequirement already satisfied: fasteners in /usr/local/lib/python3.7/site-packages (from minorminer<0.3.0,>=0.2.4->dwave-system>=1.2.0->dwave-qiskit-plugin) (0.16)\nRequirement already satisfied: scipy in /usr/local/lib/python3.7/site-packages (from minorminer<0.3.0,>=0.2.4->dwave-system>=1.2.0->dwave-qiskit-plugin) (1.6.1)\nRequirement already satisfied: six>=1.5 in /usr/local/lib/python3.7/site-packages (from python-dateutil>=2.7->dwave-cloud-client<0.9.0,>=0.8.4->dwave-system>=1.2.0->dwave-qiskit-plugin) (1.15.0)\nRequirement already satisfied: qiskit-ignis>=0.6.0 in /workspace/.pip-modules/lib/python3.7/site-packages (from qiskit-aqua>=0.8.0->dwave-qiskit-plugin) (0.6.0)\nRequirement already satisfied: docplex<=2.20.204 in /workspace/.pip-modules/lib/python3.7/site-packages (from qiskit-aqua>=0.8.0->dwave-qiskit-plugin) (2.20.204)\nRequirement already satisfied: scikit-learn>=0.20.0 in /usr/local/lib/python3.7/site-packages (from qiskit-aqua>=0.8.0->dwave-qiskit-plugin) (0.23.1)\nRequirement already satisfied: dlx<=1.0.4 in /workspace/.pip-modules/lib/python3.7/site-packages (from qiskit-aqua>=0.8.0->dwave-qiskit-plugin) (1.0.4)\nRequirement already satisfied: quandl in /workspace/.pip-modules/lib/python3.7/site-packages (from qiskit-aqua>=0.8.0->dwave-qiskit-plugin) (3.6.1)\nRequirement already satisfied: retworkx>=0.8.0 in /workspace/.pip-modules/lib/python3.7/site-packages (from qiskit-aqua>=0.8.0->dwave-qiskit-plugin) (0.9.0)\nRequirement already satisfied: setuptools>=40.1.0 in /usr/local/lib/python3.7/site-packages (from qiskit-aqua>=0.8.0->dwave-qiskit-plugin) (53.0.0)\nRequirement already satisfied: h5py in /workspace/.pip-modules/lib/python3.7/site-packages (from qiskit-aqua>=0.8.0->dwave-qiskit-plugin) (3.2.1)\nRequirement already satisfied: fastdtw<=0.3.4 in /workspace/.pip-modules/lib/python3.7/site-packages (from qiskit-aqua>=0.8.0->dwave-qiskit-plugin) (0.3.4)\nRequirement already satisfied: pandas in /usr/local/lib/python3.7/site-packages (from qiskit-aqua>=0.8.0->dwave-qiskit-plugin) (1.2.2)\nRequirement already satisfied: qiskit-terra>=0.17.0 in /workspace/.pip-modules/lib/python3.7/site-packages (from qiskit-aqua>=0.8.0->dwave-qiskit-plugin) (0.17.4)\nRequirement already satisfied: yfinance in /workspace/.pip-modules/lib/python3.7/site-packages (from qiskit-aqua>=0.8.0->dwave-qiskit-plugin) (0.1.59)\nRequirement already satisfied: sympy>=1.3 in /workspace/.pip-modules/lib/python3.7/site-packages (from qiskit-aqua>=0.8.0->dwave-qiskit-plugin) (1.8)\nRequirement already satisfied: psutil>=5 in /workspace/.pip-modules/lib/python3.7/site-packages (from qiskit-aqua>=0.8.0->dwave-qiskit-plugin) (5.8.0)\nRequirement already satisfied: jsonschema>=2.6 in /usr/local/lib/python3.7/site-packages (from qiskit-terra>=0.17.0->qiskit-aqua>=0.8.0->dwave-qiskit-plugin) (3.2.0)\nRequirement already satisfied: python-constraint>=1.4 in /workspace/.pip-modules/lib/python3.7/site-packages (from qiskit-terra>=0.17.0->qiskit-aqua>=0.8.0->dwave-qiskit-plugin) (1.4.0)\nRequirement already satisfied: fastjsonschema>=2.10 in /workspace/.pip-modules/lib/python3.7/site-packages (from qiskit-terra>=0.17.0->qiskit-aqua>=0.8.0->dwave-qiskit-plugin) (2.15.1)\nRequirement already satisfied: dill>=0.3 in /workspace/.pip-modules/lib/python3.7/site-packages (from qiskit-terra>=0.17.0->qiskit-aqua>=0.8.0->dwave-qiskit-plugin) (0.3.4)\nRequirement already satisfied: ply>=3.10 in /workspace/.pip-modules/lib/python3.7/site-packages (from qiskit-terra>=0.17.0->qiskit-aqua>=0.8.0->dwave-qiskit-plugin) (3.11)\nRequirement already satisfied: attrs>=17.4.0 in /usr/local/lib/python3.7/site-packages (from jsonschema>=2.6->qiskit-terra>=0.17.0->qiskit-aqua>=0.8.0->dwave-qiskit-plugin) (20.3.0)\nRequirement already satisfied: pyrsistent>=0.14.0 in /usr/local/lib/python3.7/site-packages (from jsonschema>=2.6->qiskit-terra>=0.17.0->qiskit-aqua>=0.8.0->dwave-qiskit-plugin) (0.17.3)\nRequirement already satisfied: importlib-metadata in /usr/local/lib/python3.7/site-packages (from jsonschema>=2.6->qiskit-terra>=0.17.0->qiskit-aqua>=0.8.0->dwave-qiskit-plugin) (3.4.0)\nRequirement already satisfied: certifi>=2017.4.17 in /usr/local/lib/python3.7/site-packages (from requests[socks]>=2.18->dwave-cloud-client<0.9.0,>=0.8.4->dwave-system>=1.2.0->dwave-qiskit-plugin) (2020.12.5)\nRequirement already satisfied: urllib3<1.27,>=1.21.1 in /usr/local/lib/python3.7/site-packages (from requests[socks]>=2.18->dwave-cloud-client<0.9.0,>=0.8.4->dwave-system>=1.2.0->dwave-qiskit-plugin) (1.26.3)\nRequirement already satisfied: chardet<5,>=3.0.2 in /usr/local/lib/python3.7/site-packages (from requests[socks]>=2.18->dwave-cloud-client<0.9.0,>=0.8.4->dwave-system>=1.2.0->dwave-qiskit-plugin) (4.0.0)\nRequirement already satisfied: idna<3,>=2.5 in /usr/local/lib/python3.7/site-packages (from requests[socks]>=2.18->dwave-cloud-client<0.9.0,>=0.8.4->dwave-system>=1.2.0->dwave-qiskit-plugin) (2.10)\nRequirement already satisfied: PySocks!=1.5.7,>=1.5.6 in /usr/local/lib/python3.7/site-packages (from requests[socks]>=2.18->dwave-cloud-client<0.9.0,>=0.8.4->dwave-system>=1.2.0->dwave-qiskit-plugin) (1.7.1)\nRequirement already satisfied: threadpoolctl>=2.0.0 in /usr/local/lib/python3.7/site-packages (from scikit-learn>=0.20.0->qiskit-aqua>=0.8.0->dwave-qiskit-plugin) (2.1.0)\nRequirement already satisfied: joblib>=0.11 in /usr/local/lib/python3.7/site-packages (from scikit-learn>=0.20.0->qiskit-aqua>=0.8.0->dwave-qiskit-plugin) (1.0.1)\nRequirement already satisfied: mpmath>=0.19 in /workspace/.pip-modules/lib/python3.7/site-packages (from sympy>=1.3->qiskit-aqua>=0.8.0->dwave-qiskit-plugin) (1.2.1)\nRequirement already satisfied: cached-property in /workspace/.pip-modules/lib/python3.7/site-packages (from h5py->qiskit-aqua>=0.8.0->dwave-qiskit-plugin) (1.5.2)\nRequirement already satisfied: zipp>=0.5 in /usr/local/lib/python3.7/site-packages (from importlib-metadata->jsonschema>=2.6->qiskit-terra>=0.17.0->qiskit-aqua>=0.8.0->dwave-qiskit-plugin) (3.4.0)\nRequirement already satisfied: typing-extensions>=3.6.4 in /usr/local/lib/python3.7/site-packages (from importlib-metadata->jsonschema>=2.6->qiskit-terra>=0.17.0->qiskit-aqua>=0.8.0->dwave-qiskit-plugin) (3.7.4.3)\nRequirement already satisfied: pytz>=2017.3 in /usr/local/lib/python3.7/site-packages (from pandas->qiskit-aqua>=0.8.0->dwave-qiskit-plugin) (2021.1)\nRequirement already satisfied: more-itertools in /workspace/.pip-modules/lib/python3.7/site-packages (from quandl->qiskit-aqua>=0.8.0->dwave-qiskit-plugin) (8.8.0)\nRequirement already satisfied: inflection>=0.3.1 in /workspace/.pip-modules/lib/python3.7/site-packages (from quandl->qiskit-aqua>=0.8.0->dwave-qiskit-plugin) (0.5.1)\nRequirement already satisfied: lxml>=4.5.1 in /workspace/.pip-modules/lib/python3.7/site-packages (from yfinance->qiskit-aqua>=0.8.0->dwave-qiskit-plugin) (4.6.3)\nRequirement already satisfied: multitasking>=0.0.7 in /workspace/.pip-modules/lib/python3.7/site-packages (from yfinance->qiskit-aqua>=0.8.0->dwave-qiskit-plugin) (0.0.9)\n\u001b[33mWARNING: You are using pip version 21.0.1; however, version 21.1.2 is available.\nYou should consider upgrading via the '/usr/local/bin/python -m pip install --upgrade pip' command.\u001b[0m\nNote: you may need to restart the kernel to use updated packages.\n"
    }
   ],
   "source": [
    "pip install dwave-qiskit-plugin"
   ]
  },
  {
   "cell_type": "code",
   "execution_count": 5,
   "metadata": {},
   "outputs": [
    {
     "output_type": "stream",
     "name": "stdout",
     "text": "Requirement already satisfied: qiskit-optimization in /workspace/.pip-modules/lib/python3.7/site-packages (0.1.0)\nRequirement already satisfied: numpy>=1.17 in /usr/local/lib/python3.7/site-packages (from qiskit-optimization) (1.19.5)\nRequirement already satisfied: scipy>=1.4 in /usr/local/lib/python3.7/site-packages (from qiskit-optimization) (1.6.1)\nRequirement already satisfied: qiskit-terra>=0.17.0 in /workspace/.pip-modules/lib/python3.7/site-packages (from qiskit-optimization) (0.17.4)\nRequirement already satisfied: docplex in /workspace/.pip-modules/lib/python3.7/site-packages (from qiskit-optimization) (2.20.204)\nRequirement already satisfied: setuptools>=40.1.0 in /usr/local/lib/python3.7/site-packages (from qiskit-optimization) (53.0.0)\nRequirement already satisfied: networkx>=2.2 in /usr/local/lib/python3.7/site-packages (from qiskit-optimization) (2.5)\nRequirement already satisfied: decorator>=4.3.0 in /usr/local/lib/python3.7/site-packages (from networkx>=2.2->qiskit-optimization) (4.4.2)\nRequirement already satisfied: psutil>=5 in /workspace/.pip-modules/lib/python3.7/site-packages (from qiskit-terra>=0.17.0->qiskit-optimization) (5.8.0)\nRequirement already satisfied: jsonschema>=2.6 in /usr/local/lib/python3.7/site-packages (from qiskit-terra>=0.17.0->qiskit-optimization) (3.2.0)\nRequirement already satisfied: dill>=0.3 in /workspace/.pip-modules/lib/python3.7/site-packages (from qiskit-terra>=0.17.0->qiskit-optimization) (0.3.4)\nRequirement already satisfied: fastjsonschema>=2.10 in /workspace/.pip-modules/lib/python3.7/site-packages (from qiskit-terra>=0.17.0->qiskit-optimization) (2.15.1)\nRequirement already satisfied: python-constraint>=1.4 in /workspace/.pip-modules/lib/python3.7/site-packages (from qiskit-terra>=0.17.0->qiskit-optimization) (1.4.0)\nRequirement already satisfied: python-dateutil>=2.8.0 in /usr/local/lib/python3.7/site-packages (from qiskit-terra>=0.17.0->qiskit-optimization) (2.8.1)\nRequirement already satisfied: retworkx>=0.8.0 in /workspace/.pip-modules/lib/python3.7/site-packages (from qiskit-terra>=0.17.0->qiskit-optimization) (0.9.0)\nRequirement already satisfied: sympy>=1.3 in /workspace/.pip-modules/lib/python3.7/site-packages (from qiskit-terra>=0.17.0->qiskit-optimization) (1.8)\nRequirement already satisfied: ply>=3.10 in /workspace/.pip-modules/lib/python3.7/site-packages (from qiskit-terra>=0.17.0->qiskit-optimization) (3.11)\nRequirement already satisfied: six>=1.11.0 in /usr/local/lib/python3.7/site-packages (from jsonschema>=2.6->qiskit-terra>=0.17.0->qiskit-optimization) (1.15.0)\nRequirement already satisfied: importlib-metadata in /usr/local/lib/python3.7/site-packages (from jsonschema>=2.6->qiskit-terra>=0.17.0->qiskit-optimization) (3.4.0)\nRequirement already satisfied: pyrsistent>=0.14.0 in /usr/local/lib/python3.7/site-packages (from jsonschema>=2.6->qiskit-terra>=0.17.0->qiskit-optimization) (0.17.3)\nRequirement already satisfied: attrs>=17.4.0 in /usr/local/lib/python3.7/site-packages (from jsonschema>=2.6->qiskit-terra>=0.17.0->qiskit-optimization) (20.3.0)\nRequirement already satisfied: mpmath>=0.19 in /workspace/.pip-modules/lib/python3.7/site-packages (from sympy>=1.3->qiskit-terra>=0.17.0->qiskit-optimization) (1.2.1)\nRequirement already satisfied: requests in /usr/local/lib/python3.7/site-packages (from docplex->qiskit-optimization) (2.25.1)\nRequirement already satisfied: typing-extensions>=3.6.4 in /usr/local/lib/python3.7/site-packages (from importlib-metadata->jsonschema>=2.6->qiskit-terra>=0.17.0->qiskit-optimization) (3.7.4.3)\nRequirement already satisfied: zipp>=0.5 in /usr/local/lib/python3.7/site-packages (from importlib-metadata->jsonschema>=2.6->qiskit-terra>=0.17.0->qiskit-optimization) (3.4.0)\nRequirement already satisfied: idna<3,>=2.5 in /usr/local/lib/python3.7/site-packages (from requests->docplex->qiskit-optimization) (2.10)\nRequirement already satisfied: certifi>=2017.4.17 in /usr/local/lib/python3.7/site-packages (from requests->docplex->qiskit-optimization) (2020.12.5)\nRequirement already satisfied: urllib3<1.27,>=1.21.1 in /usr/local/lib/python3.7/site-packages (from requests->docplex->qiskit-optimization) (1.26.3)\nRequirement already satisfied: chardet<5,>=3.0.2 in /usr/local/lib/python3.7/site-packages (from requests->docplex->qiskit-optimization) (4.0.0)\n\u001b[33mWARNING: You are using pip version 21.0.1; however, version 21.1.2 is available.\nYou should consider upgrading via the '/usr/local/bin/python -m pip install --upgrade pip' command.\u001b[0m\nNote: you may need to restart the kernel to use updated packages.\n"
    }
   ],
   "source": [
    "pip install qiskit-optimization"
   ]
  },
  {
   "cell_type": "code",
   "execution_count": 6,
   "metadata": {},
   "outputs": [
    {
     "output_type": "stream",
     "name": "stdout",
     "text": "Requirement already satisfied: qiskit-aqua[cplex] in /workspace/.pip-modules/lib/python3.7/site-packages (0.9.2)\nRequirement already satisfied: h5py in /workspace/.pip-modules/lib/python3.7/site-packages (from qiskit-aqua[cplex]) (3.2.1)\nRequirement already satisfied: retworkx>=0.8.0 in /workspace/.pip-modules/lib/python3.7/site-packages (from qiskit-aqua[cplex]) (0.9.0)\nRequirement already satisfied: numpy>=1.17 in /usr/local/lib/python3.7/site-packages (from qiskit-aqua[cplex]) (1.19.5)\nRequirement already satisfied: pandas in /usr/local/lib/python3.7/site-packages (from qiskit-aqua[cplex]) (1.2.2)\nRequirement already satisfied: yfinance in /workspace/.pip-modules/lib/python3.7/site-packages (from qiskit-aqua[cplex]) (0.1.59)\nRequirement already satisfied: setuptools>=40.1.0 in /usr/local/lib/python3.7/site-packages (from qiskit-aqua[cplex]) (53.0.0)\nRequirement already satisfied: psutil>=5 in /workspace/.pip-modules/lib/python3.7/site-packages (from qiskit-aqua[cplex]) (5.8.0)\nRequirement already satisfied: dlx<=1.0.4 in /workspace/.pip-modules/lib/python3.7/site-packages (from qiskit-aqua[cplex]) (1.0.4)\nRequirement already satisfied: quandl in /workspace/.pip-modules/lib/python3.7/site-packages (from qiskit-aqua[cplex]) (3.6.1)\nRequirement already satisfied: qiskit-ignis>=0.6.0 in /workspace/.pip-modules/lib/python3.7/site-packages (from qiskit-aqua[cplex]) (0.6.0)\nRequirement already satisfied: qiskit-terra>=0.17.0 in /workspace/.pip-modules/lib/python3.7/site-packages (from qiskit-aqua[cplex]) (0.17.4)\nRequirement already satisfied: fastdtw<=0.3.4 in /workspace/.pip-modules/lib/python3.7/site-packages (from qiskit-aqua[cplex]) (0.3.4)\nRequirement already satisfied: scikit-learn>=0.20.0 in /usr/local/lib/python3.7/site-packages (from qiskit-aqua[cplex]) (0.23.1)\nRequirement already satisfied: scipy>=1.4 in /usr/local/lib/python3.7/site-packages (from qiskit-aqua[cplex]) (1.6.1)\nRequirement already satisfied: sympy>=1.3 in /workspace/.pip-modules/lib/python3.7/site-packages (from qiskit-aqua[cplex]) (1.8)\nRequirement already satisfied: docplex<=2.20.204 in /workspace/.pip-modules/lib/python3.7/site-packages (from qiskit-aqua[cplex]) (2.20.204)\nRequirement already satisfied: cplex<=20.1.0.1 in /workspace/.pip-modules/lib/python3.7/site-packages (from qiskit-aqua[cplex]) (20.1.0.1)\nRequirement already satisfied: requests in /usr/local/lib/python3.7/site-packages (from docplex<=2.20.204->qiskit-aqua[cplex]) (2.25.1)\nRequirement already satisfied: six in /usr/local/lib/python3.7/site-packages (from docplex<=2.20.204->qiskit-aqua[cplex]) (1.15.0)\nRequirement already satisfied: python-constraint>=1.4 in /workspace/.pip-modules/lib/python3.7/site-packages (from qiskit-terra>=0.17.0->qiskit-aqua[cplex]) (1.4.0)\nRequirement already satisfied: ply>=3.10 in /workspace/.pip-modules/lib/python3.7/site-packages (from qiskit-terra>=0.17.0->qiskit-aqua[cplex]) (3.11)\nRequirement already satisfied: dill>=0.3 in /workspace/.pip-modules/lib/python3.7/site-packages (from qiskit-terra>=0.17.0->qiskit-aqua[cplex]) (0.3.4)\nRequirement already satisfied: jsonschema>=2.6 in /usr/local/lib/python3.7/site-packages (from qiskit-terra>=0.17.0->qiskit-aqua[cplex]) (3.2.0)\nRequirement already satisfied: fastjsonschema>=2.10 in /workspace/.pip-modules/lib/python3.7/site-packages (from qiskit-terra>=0.17.0->qiskit-aqua[cplex]) (2.15.1)\nRequirement already satisfied: python-dateutil>=2.8.0 in /usr/local/lib/python3.7/site-packages (from qiskit-terra>=0.17.0->qiskit-aqua[cplex]) (2.8.1)\nRequirement already satisfied: importlib-metadata in /usr/local/lib/python3.7/site-packages (from jsonschema>=2.6->qiskit-terra>=0.17.0->qiskit-aqua[cplex]) (3.4.0)\nRequirement already satisfied: pyrsistent>=0.14.0 in /usr/local/lib/python3.7/site-packages (from jsonschema>=2.6->qiskit-terra>=0.17.0->qiskit-aqua[cplex]) (0.17.3)\nRequirement already satisfied: attrs>=17.4.0 in /usr/local/lib/python3.7/site-packages (from jsonschema>=2.6->qiskit-terra>=0.17.0->qiskit-aqua[cplex]) (20.3.0)\nRequirement already satisfied: threadpoolctl>=2.0.0 in /usr/local/lib/python3.7/site-packages (from scikit-learn>=0.20.0->qiskit-aqua[cplex]) (2.1.0)\nRequirement already satisfied: joblib>=0.11 in /usr/local/lib/python3.7/site-packages (from scikit-learn>=0.20.0->qiskit-aqua[cplex]) (1.0.1)\nRequirement already satisfied: mpmath>=0.19 in /workspace/.pip-modules/lib/python3.7/site-packages (from sympy>=1.3->qiskit-aqua[cplex]) (1.2.1)\nRequirement already satisfied: cached-property in /workspace/.pip-modules/lib/python3.7/site-packages (from h5py->qiskit-aqua[cplex]) (1.5.2)\nRequirement already satisfied: typing-extensions>=3.6.4 in /usr/local/lib/python3.7/site-packages (from importlib-metadata->jsonschema>=2.6->qiskit-terra>=0.17.0->qiskit-aqua[cplex]) (3.7.4.3)\nRequirement already satisfied: zipp>=0.5 in /usr/local/lib/python3.7/site-packages (from importlib-metadata->jsonschema>=2.6->qiskit-terra>=0.17.0->qiskit-aqua[cplex]) (3.4.0)\nRequirement already satisfied: pytz>=2017.3 in /usr/local/lib/python3.7/site-packages (from pandas->qiskit-aqua[cplex]) (2021.1)\nRequirement already satisfied: inflection>=0.3.1 in /workspace/.pip-modules/lib/python3.7/site-packages (from quandl->qiskit-aqua[cplex]) (0.5.1)\nRequirement already satisfied: more-itertools in /workspace/.pip-modules/lib/python3.7/site-packages (from quandl->qiskit-aqua[cplex]) (8.8.0)\nRequirement already satisfied: urllib3<1.27,>=1.21.1 in /usr/local/lib/python3.7/site-packages (from requests->docplex<=2.20.204->qiskit-aqua[cplex]) (1.26.3)\nRequirement already satisfied: certifi>=2017.4.17 in /usr/local/lib/python3.7/site-packages (from requests->docplex<=2.20.204->qiskit-aqua[cplex]) (2020.12.5)\nRequirement already satisfied: idna<3,>=2.5 in /usr/local/lib/python3.7/site-packages (from requests->docplex<=2.20.204->qiskit-aqua[cplex]) (2.10)\nRequirement already satisfied: chardet<5,>=3.0.2 in /usr/local/lib/python3.7/site-packages (from requests->docplex<=2.20.204->qiskit-aqua[cplex]) (4.0.0)\nRequirement already satisfied: lxml>=4.5.1 in /workspace/.pip-modules/lib/python3.7/site-packages (from yfinance->qiskit-aqua[cplex]) (4.6.3)\nRequirement already satisfied: multitasking>=0.0.7 in /workspace/.pip-modules/lib/python3.7/site-packages (from yfinance->qiskit-aqua[cplex]) (0.0.9)\n\u001b[33mWARNING: You are using pip version 21.0.1; however, version 21.1.2 is available.\nYou should consider upgrading via the '/usr/local/bin/python -m pip install --upgrade pip' command.\u001b[0m\nNote: you may need to restart the kernel to use updated packages.\n"
    }
   ],
   "source": [
    "pip install 'qiskit-aqua[cplex]'"
   ]
  },
  {
   "cell_type": "code",
   "execution_count": 11,
   "metadata": {},
   "outputs": [
    {
     "output_type": "stream",
     "name": "stdout",
     "text": "Requirement already satisfied: qiskit-terra in /workspace/.pip-modules/lib/python3.7/site-packages (0.17.4)\nRequirement already satisfied: numpy>=1.17 in /usr/local/lib/python3.7/site-packages (from qiskit-terra) (1.19.5)\nRequirement already satisfied: dill>=0.3 in /workspace/.pip-modules/lib/python3.7/site-packages (from qiskit-terra) (0.3.4)\nRequirement already satisfied: fastjsonschema>=2.10 in /workspace/.pip-modules/lib/python3.7/site-packages (from qiskit-terra) (2.15.1)\nRequirement already satisfied: jsonschema>=2.6 in /usr/local/lib/python3.7/site-packages (from qiskit-terra) (3.2.0)\nRequirement already satisfied: scipy>=1.4 in /usr/local/lib/python3.7/site-packages (from qiskit-terra) (1.6.1)\nRequirement already satisfied: sympy>=1.3 in /workspace/.pip-modules/lib/python3.7/site-packages (from qiskit-terra) (1.8)\nRequirement already satisfied: retworkx>=0.8.0 in /workspace/.pip-modules/lib/python3.7/site-packages (from qiskit-terra) (0.9.0)\nRequirement already satisfied: psutil>=5 in /workspace/.pip-modules/lib/python3.7/site-packages (from qiskit-terra) (5.8.0)\nRequirement already satisfied: python-constraint>=1.4 in /workspace/.pip-modules/lib/python3.7/site-packages (from qiskit-terra) (1.4.0)\nRequirement already satisfied: ply>=3.10 in /workspace/.pip-modules/lib/python3.7/site-packages (from qiskit-terra) (3.11)\nRequirement already satisfied: python-dateutil>=2.8.0 in /usr/local/lib/python3.7/site-packages (from qiskit-terra) (2.8.1)\nRequirement already satisfied: attrs>=17.4.0 in /usr/local/lib/python3.7/site-packages (from jsonschema>=2.6->qiskit-terra) (20.3.0)\nRequirement already satisfied: setuptools in /usr/local/lib/python3.7/site-packages (from jsonschema>=2.6->qiskit-terra) (53.0.0)\nRequirement already satisfied: importlib-metadata in /usr/local/lib/python3.7/site-packages (from jsonschema>=2.6->qiskit-terra) (3.4.0)\nRequirement already satisfied: six>=1.11.0 in /usr/local/lib/python3.7/site-packages (from jsonschema>=2.6->qiskit-terra) (1.15.0)\nRequirement already satisfied: pyrsistent>=0.14.0 in /usr/local/lib/python3.7/site-packages (from jsonschema>=2.6->qiskit-terra) (0.17.3)\nRequirement already satisfied: mpmath>=0.19 in /workspace/.pip-modules/lib/python3.7/site-packages (from sympy>=1.3->qiskit-terra) (1.2.1)\nRequirement already satisfied: zipp>=0.5 in /usr/local/lib/python3.7/site-packages (from importlib-metadata->jsonschema>=2.6->qiskit-terra) (3.4.0)\nRequirement already satisfied: typing-extensions>=3.6.4 in /usr/local/lib/python3.7/site-packages (from importlib-metadata->jsonschema>=2.6->qiskit-terra) (3.7.4.3)\n\u001b[33mWARNING: You are using pip version 21.0.1; however, version 21.1.2 is available.\nYou should consider upgrading via the '/usr/local/bin/python -m pip install --upgrade pip' command.\u001b[0m\nNote: you may need to restart the kernel to use updated packages.\n"
    }
   ],
   "source": [
    "pip install qiskit-terra"
   ]
  },
  {
   "cell_type": "code",
   "execution_count": 12,
   "metadata": {},
   "outputs": [],
   "source": [
    "from qiskit.optimization import QuadraticProgram\n",
    "from qiskit.optimization.algorithms import MinimumEigenOptimizer\n",
    "from dwave.plugins.qiskit import DWaveMinimumEigensolver"
   ]
  },
  {
   "cell_type": "code",
   "execution_count": 11,
   "metadata": {},
   "outputs": [],
   "source": [
    "qp = QuadraticProgram()"
   ]
  },
  {
   "cell_type": "code",
   "execution_count": 12,
   "metadata": {},
   "outputs": [
    {
     "output_type": "error",
     "ename": "FileNotFoundError",
     "evalue": "[Errno 2] No such file or directory: 'test.lp'",
     "traceback": [
      "\u001b[0;31m---------------------------------------------------------------------------\u001b[0m",
      "\u001b[0;31mFileNotFoundError\u001b[0m                         Traceback (most recent call last)",
      "\u001b[0;32m<ipython-input-12-b4d739818369>\u001b[0m in \u001b[0;36m<module>\u001b[0;34m\u001b[0m\n\u001b[0;32m----> 1\u001b[0;31m \u001b[0mqp\u001b[0m\u001b[0;34m.\u001b[0m\u001b[0mread_from_lp_file\u001b[0m\u001b[0;34m(\u001b[0m\u001b[0;34m\"test.lp\"\u001b[0m\u001b[0;34m)\u001b[0m\u001b[0;34m\u001b[0m\u001b[0;34m\u001b[0m\u001b[0m\n\u001b[0m",
      "\u001b[0;32m/workspace/.pip-modules/lib/python3.7/site-packages/qiskit/optimization/problems/quadratic_program.py\u001b[0m in \u001b[0;36mread_from_lp_file\u001b[0;34m(self, filename)\u001b[0m\n\u001b[1;32m   1118\u001b[0m \u001b[0;34m\u001b[0m\u001b[0m\n\u001b[1;32m   1119\u001b[0m         \u001b[0mmodel_reader\u001b[0m \u001b[0;34m=\u001b[0m \u001b[0mModelReader\u001b[0m\u001b[0;34m(\u001b[0m\u001b[0;34m)\u001b[0m\u001b[0;34m\u001b[0m\u001b[0;34m\u001b[0m\u001b[0m\n\u001b[0;32m-> 1120\u001b[0;31m         \u001b[0mmodel\u001b[0m \u001b[0;34m=\u001b[0m \u001b[0mmodel_reader\u001b[0m\u001b[0;34m.\u001b[0m\u001b[0mread\u001b[0m\u001b[0;34m(\u001b[0m\u001b[0mfilename\u001b[0m\u001b[0;34m,\u001b[0m \u001b[0mmodel_name\u001b[0m\u001b[0;34m=\u001b[0m\u001b[0m_parse_problem_name\u001b[0m\u001b[0;34m(\u001b[0m\u001b[0mfilename\u001b[0m\u001b[0;34m)\u001b[0m\u001b[0;34m)\u001b[0m\u001b[0;34m\u001b[0m\u001b[0;34m\u001b[0m\u001b[0m\n\u001b[0m\u001b[1;32m   1121\u001b[0m         \u001b[0mself\u001b[0m\u001b[0;34m.\u001b[0m\u001b[0mfrom_docplex\u001b[0m\u001b[0;34m(\u001b[0m\u001b[0mmodel\u001b[0m\u001b[0;34m)\u001b[0m\u001b[0;34m\u001b[0m\u001b[0;34m\u001b[0m\u001b[0m\n\u001b[1;32m   1122\u001b[0m \u001b[0;34m\u001b[0m\u001b[0m\n",
      "\u001b[0;32m/workspace/.pip-modules/lib/python3.7/site-packages/qiskit/optimization/problems/quadratic_program.py\u001b[0m in \u001b[0;36m_parse_problem_name\u001b[0;34m(filename)\u001b[0m\n\u001b[1;32m   1109\u001b[0m             \u001b[0mprefix\u001b[0m \u001b[0;34m=\u001b[0m \u001b[0;34m'\\\\Problem name:'\u001b[0m\u001b[0;34m\u001b[0m\u001b[0;34m\u001b[0m\u001b[0m\n\u001b[1;32m   1110\u001b[0m             \u001b[0mmodel_name\u001b[0m \u001b[0;34m=\u001b[0m \u001b[0;34m''\u001b[0m\u001b[0;34m\u001b[0m\u001b[0;34m\u001b[0m\u001b[0m\n\u001b[0;32m-> 1111\u001b[0;31m             \u001b[0;32mwith\u001b[0m \u001b[0mopen\u001b[0m\u001b[0;34m(\u001b[0m\u001b[0mfilename\u001b[0m\u001b[0;34m)\u001b[0m \u001b[0;32mas\u001b[0m \u001b[0mfile\u001b[0m\u001b[0;34m:\u001b[0m\u001b[0;34m\u001b[0m\u001b[0;34m\u001b[0m\u001b[0m\n\u001b[0m\u001b[1;32m   1112\u001b[0m                 \u001b[0;32mfor\u001b[0m \u001b[0mline\u001b[0m \u001b[0;32min\u001b[0m \u001b[0mfile\u001b[0m\u001b[0;34m:\u001b[0m\u001b[0;34m\u001b[0m\u001b[0;34m\u001b[0m\u001b[0m\n\u001b[1;32m   1113\u001b[0m                     \u001b[0;32mif\u001b[0m \u001b[0mline\u001b[0m\u001b[0;34m.\u001b[0m\u001b[0mstartswith\u001b[0m\u001b[0;34m(\u001b[0m\u001b[0mprefix\u001b[0m\u001b[0;34m)\u001b[0m\u001b[0;34m:\u001b[0m\u001b[0;34m\u001b[0m\u001b[0;34m\u001b[0m\u001b[0m\n",
      "\u001b[0;31mFileNotFoundError\u001b[0m: [Errno 2] No such file or directory: 'test.lp'"
     ]
    }
   ],
   "source": [
    "qp.read_from_lp_file(\"test.lp\")"
   ]
  },
  {
   "cell_type": "code",
   "execution_count": 88,
   "metadata": {},
   "outputs": [],
   "source": [
    "dwave_mes = DWaveMinimumEigensolver(num_reads=2000)"
   ]
  },
  {
   "cell_type": "code",
   "execution_count": 89,
   "metadata": {},
   "outputs": [],
   "source": [
    "optimizer = MinimumEigenOptimizer(dwave_mes)"
   ]
  },
  {
   "cell_type": "code",
   "execution_count": 90,
   "metadata": {},
   "outputs": [
    {
     "output_type": "stream",
     "name": "stdout",
     "text": "optimal function value: 11.0\noptimal value: [1. 1. 1. 0. 1. 0. 0. 0. 1. 1. 1. 1. 0. 0. 0. 0. 1. 1. 1.]\nstatus: SUCCESS\n"
    }
   ],
   "source": [
    "result = optimizer.solve(qp)\n",
    "print(result)"
   ]
  },
  {
   "cell_type": "code",
   "execution_count": 85,
   "metadata": {},
   "outputs": [
    {
     "output_type": "execute_result",
     "data": {
      "text/plain": "[SolutionSample(x=array([1., 1., 0., 1., 1., 1., 0., 0., 0., 1., 1., 0., 1., 0., 1., 1., 1.,\n        1., 0.]), fval=12.0, probability=1.0, status=<OptimizationResultStatus.SUCCESS: 0>)]"
     },
     "metadata": {},
     "execution_count": 85
    }
   ],
   "source": [
    "result.samples"
   ]
  },
  {
   "cell_type": "code",
   "execution_count": 68,
   "metadata": {},
   "outputs": [
    {
     "output_type": "execute_result",
     "data": {
      "text/plain": "41"
     },
     "metadata": {},
     "execution_count": 68
    }
   ],
   "source": [
    "qp.get_num_linear_constraints()"
   ]
  },
  {
   "cell_type": "code",
   "execution_count": 69,
   "metadata": {},
   "outputs": [
    {
     "output_type": "execute_result",
     "data": {
      "text/plain": "<qiskit.optimization.problems.quadratic_objective.QuadraticObjective at 0x7fee916c9050>"
     },
     "metadata": {},
     "execution_count": 69
    }
   ],
   "source": [
    "qp.objective"
   ]
  },
  {
   "cell_type": "code",
   "execution_count": 51,
   "metadata": {},
   "outputs": [
    {
     "output_type": "stream",
     "name": "stdout",
     "text": "optimal function value: 2.0\noptimal value: [0. 0. 1. 0. 0. 1.]\nstatus: SUCCESS\n"
    }
   ],
   "source": [
    "print(result)"
   ]
  },
  {
   "cell_type": "code",
   "execution_count": 103,
   "metadata": {},
   "outputs": [
    {
     "output_type": "stream",
     "name": "stdout",
     "text": "optimal function value: 10.0\noptimal value: [1. 1. 0. 1. 1. 0. 0. 0. 0. 1. 1. 1. 0. 0. 0. 1. 1. 1. 0.]\nstatus: SUCCESS\n[SolutionSample(x=array([1., 1., 0., 1., 1., 0., 0., 0., 0., 1., 1., 1., 0., 0., 0., 1., 1.,\n       1., 0.]), fval=10.0, probability=0.5, status=<OptimizationResultStatus.SUCCESS: 0>), SolutionSample(x=array([1., 1., 0., 0., 1., 0., 1., 0., 1., 0., 1., 1., 0., 0., 0., 0., 1.,\n       1., 1.]), fval=10.0, probability=0.5, status=<OptimizationResultStatus.SUCCESS: 0>)]\noptimal function value: 14.0\noptimal value: [1. 1. 0. 1. 1. 1. 0. 0. 1. 0. 1. 1. 1. 1. 1. 1. 0. 1. 1.]\nstatus: SUCCESS\n[SolutionSample(x=array([1., 1., 0., 1., 1., 1., 0., 0., 1., 0., 1., 1., 1., 1., 1., 1., 0.,\n       1., 1.]), fval=14.0, probability=0.5, status=<OptimizationResultStatus.SUCCESS: 0>), SolutionSample(x=array([1., 1., 1., 1., 1., 0., 0., 0., 0., 1., 1., 1., 1., 0., 1., 1., 1.,\n       1., 1.]), fval=14.0, probability=0.5, status=<OptimizationResultStatus.SUCCESS: 0>)]\noptimal function value: 8.0\noptimal value: [1. 1. 0. 0. 1. 0. 0. 0. 1. 0. 1. 1. 0. 0. 0. 0. 1. 1. 0.]\nstatus: SUCCESS\n[SolutionSample(x=array([1., 1., 0., 0., 1., 0., 0., 0., 1., 0., 1., 1., 0., 0., 0., 0., 1.,\n       1., 0.]), fval=8.0, probability=0.5, status=<OptimizationResultStatus.SUCCESS: 0>), SolutionSample(x=array([1., 1., 0., 0., 1., 0., 0., 0., 1., 0., 1., 1., 1., 0., 0., 0., 0.,\n       1., 0.]), fval=8.0, probability=0.5, status=<OptimizationResultStatus.SUCCESS: 0>)]\noptimal function value: 11.0\noptimal value: [1. 1. 0. 1. 1. 1. 1. 0. 0. 1. 1. 1. 0. 0. 0. 1. 0. 1. 0.]\nstatus: SUCCESS\n[SolutionSample(x=array([1., 1., 0., 1., 1., 1., 1., 0., 0., 1., 1., 1., 0., 0., 0., 1., 0.,\n       1., 0.]), fval=11.0, probability=0.3333333333333333, status=<OptimizationResultStatus.SUCCESS: 0>), SolutionSample(x=array([1., 1., 0., 0., 1., 0., 1., 0., 1., 0., 1., 1., 1., 1., 0., 0., 1.,\n       1., 0.]), fval=11.0, probability=0.3333333333333333, status=<OptimizationResultStatus.SUCCESS: 0>), SolutionSample(x=array([1., 1., 0., 0., 1., 1., 0., 0., 0., 1., 0., 1., 1., 1., 0., 1., 0.,\n       1., 1.]), fval=11.0, probability=0.3333333333333333, status=<OptimizationResultStatus.INFEASIBLE: 2>)]\noptimal function value: 13.0\noptimal value: [1. 1. 1. 1. 1. 0. 1. 0. 0. 1. 1. 1. 0. 0. 1. 1. 0. 1. 1.]\nstatus: SUCCESS\n[SolutionSample(x=array([1., 1., 1., 1., 1., 0., 1., 0., 0., 1., 1., 1., 0., 0., 1., 1., 0.,\n       1., 1.]), fval=13.0, probability=1.0, status=<OptimizationResultStatus.SUCCESS: 0>)]\noptimal function value: 10.0\noptimal value: [1. 1. 0. 1. 1. 0. 0. 1. 1. 0. 1. 1. 1. 1. 0. 0. 0. 0. 0.]\nstatus: INFEASIBLE\n[SolutionSample(x=array([1., 1., 0., 1., 1., 0., 0., 1., 1., 0., 1., 1., 1., 1., 0., 0., 0.,\n       0., 0.]), fval=10.0, probability=1.0, status=<OptimizationResultStatus.INFEASIBLE: 2>)]\noptimal function value: 9.0\noptimal value: [1. 1. 0. 0. 1. 0. 0. 0. 0. 0. 1. 1. 0. 1. 0. 1. 1. 1. 0.]\nstatus: SUCCESS\n[SolutionSample(x=array([1., 1., 0., 0., 1., 0., 0., 0., 0., 0., 1., 1., 0., 1., 0., 1., 1.,\n       1., 0.]), fval=9.0, probability=1.0, status=<OptimizationResultStatus.SUCCESS: 0>)]\noptimal function value: 8.0\noptimal value: [1. 1. 0. 0. 1. 0. 0. 0. 1. 0. 1. 1. 0. 0. 0. 0. 1. 1. 0.]\nstatus: SUCCESS\n[SolutionSample(x=array([1., 1., 0., 0., 1., 0., 0., 0., 1., 0., 1., 1., 0., 0., 0., 0., 1.,\n       1., 0.]), fval=8.0, probability=1.0, status=<OptimizationResultStatus.SUCCESS: 0>)]\noptimal function value: 14.0\noptimal value: [1. 1. 1. 1. 1. 0. 0. 1. 0. 1. 1. 0. 1. 0. 1. 1. 1. 1. 1.]\nstatus: SUCCESS\n[SolutionSample(x=array([1., 1., 1., 1., 1., 0., 0., 1., 0., 1., 1., 0., 1., 0., 1., 1., 1.,\n       1., 1.]), fval=14.0, probability=0.5, status=<OptimizationResultStatus.SUCCESS: 0>), SolutionSample(x=array([1., 1., 0., 0., 1., 1., 1., 1., 0., 1., 1., 0., 1., 0., 1., 1., 1.,\n       1., 1.]), fval=14.0, probability=0.5, status=<OptimizationResultStatus.SUCCESS: 0>)]\noptimal function value: 11.0\noptimal value: [1. 1. 0. 0. 1. 1. 0. 0. 0. 1. 1. 1. 0. 0. 1. 1. 1. 1. 0.]\nstatus: SUCCESS\n[SolutionSample(x=array([1., 1., 0., 0., 1., 1., 0., 0., 0., 1., 1., 1., 0., 0., 1., 1., 1.,\n       1., 0.]), fval=11.0, probability=1.0, status=<OptimizationResultStatus.SUCCESS: 0>)]\n"
    }
   ],
   "source": [
    "for i in range(0,10):\n",
    "    qp = QuadraticProgram()\n",
    "    qp.read_from_lp_file(\"test.lp\")\n",
    "    dwave_mes = DWaveMinimumEigensolver(num_reads=10000)\n",
    "    optimizer = MinimumEigenOptimizer(dwave_mes)\n",
    "    result = optimizer.solve(qp)\n",
    "    print(result)\n",
    "    print(result.samples)"
   ]
  },
  {
   "cell_type": "code",
   "execution_count": 104,
   "metadata": {},
   "outputs": [
    {
     "output_type": "stream",
     "name": "stdout",
     "text": "optimal function value: 10.0\noptimal value: [1. 1. 1. 0. 1. 0. 0. 1. 1. 0. 1. 1. 0. 1. 0. 0. 0. 0. 1.]\nstatus: SUCCESS\n[SolutionSample(x=array([1., 1., 1., 0., 1., 0., 0., 1., 1., 0., 1., 1., 0., 1., 0., 0., 0.,\n       0., 1.]), fval=10.0, probability=1.0, status=<OptimizationResultStatus.SUCCESS: 0>)]\noptimal function value: 10.0\noptimal value: [1. 1. 0. 0. 1. 0. 0. 1. 1. 1. 1. 1. 0. 0. 0. 0. 1. 0. 1.]\nstatus: SUCCESS\n[SolutionSample(x=array([1., 1., 0., 0., 1., 0., 0., 1., 1., 1., 1., 1., 0., 0., 0., 0., 1.,\n       0., 1.]), fval=10.0, probability=1.0, status=<OptimizationResultStatus.SUCCESS: 0>)]\noptimal function value: 11.0\noptimal value: [1. 1. 1. 0. 1. 1. 0. 0. 1. 0. 1. 1. 0. 0. 0. 0. 1. 1. 1.]\nstatus: SUCCESS\n[SolutionSample(x=array([1., 1., 1., 0., 1., 1., 0., 0., 1., 0., 1., 1., 0., 0., 0., 0., 1.,\n       1., 1.]), fval=11.0, probability=1.0, status=<OptimizationResultStatus.SUCCESS: 0>)]\noptimal function value: 9.0\noptimal value: [1. 1. 0. 0. 1. 0. 0. 0. 1. 0. 1. 1. 0. 1. 0. 0. 1. 1. 0.]\nstatus: SUCCESS\n[SolutionSample(x=array([1., 1., 0., 0., 1., 0., 0., 0., 1., 0., 1., 1., 0., 1., 0., 0., 1.,\n       1., 0.]), fval=9.0, probability=1.0, status=<OptimizationResultStatus.SUCCESS: 0>)]\noptimal function value: 11.0\noptimal value: [1. 1. 0. 0. 1. 1. 1. 1. 1. 0. 1. 1. 0. 0. 0. 0. 1. 0. 1.]\nstatus: SUCCESS\n[SolutionSample(x=array([1., 1., 0., 0., 1., 1., 1., 1., 1., 0., 1., 1., 0., 0., 0., 0., 1.,\n       0., 1.]), fval=11.0, probability=1.0, status=<OptimizationResultStatus.SUCCESS: 0>)]\noptimal function value: 11.0\noptimal value: [1. 1. 1. 1. 1. 0. 0. 0. 0. 1. 1. 0. 1. 0. 1. 1. 0. 1. 0.]\nstatus: SUCCESS\n[SolutionSample(x=array([1., 1., 1., 1., 1., 0., 0., 0., 0., 1., 1., 0., 1., 0., 1., 1., 0.,\n       1., 0.]), fval=11.0, probability=1.0, status=<OptimizationResultStatus.SUCCESS: 0>)]\noptimal function value: 10.0\noptimal value: [1. 1. 0. 0. 1. 0. 0. 1. 1. 0. 1. 1. 1. 0. 0. 0. 1. 1. 0.]\nstatus: SUCCESS\n[SolutionSample(x=array([1., 1., 0., 0., 1., 0., 0., 1., 1., 0., 1., 1., 1., 0., 0., 0., 1.,\n       1., 0.]), fval=10.0, probability=1.0, status=<OptimizationResultStatus.SUCCESS: 0>)]\noptimal function value: 9.0\noptimal value: [1. 1. 0. 0. 1. 0. 0. 0. 0. 1. 1. 1. 0. 0. 0. 1. 1. 1. 0.]\nstatus: SUCCESS\n[SolutionSample(x=array([1., 1., 0., 0., 1., 0., 0., 0., 0., 1., 1., 1., 0., 0., 0., 1., 1.,\n       1., 0.]), fval=9.0, probability=1.0, status=<OptimizationResultStatus.SUCCESS: 0>)]\noptimal function value: 12.0\noptimal value: [1. 1. 1. 0. 1. 0. 1. 0. 0. 0. 1. 1. 1. 1. 0. 1. 0. 1. 1.]\nstatus: SUCCESS\n[SolutionSample(x=array([1., 1., 1., 0., 1., 0., 1., 0., 0., 0., 1., 1., 1., 1., 0., 1., 0.,\n       1., 1.]), fval=12.0, probability=1.0, status=<OptimizationResultStatus.SUCCESS: 0>)]\noptimal function value: 9.0\noptimal value: [1. 1. 0. 0. 1. 0. 1. 1. 1. 0. 1. 1. 0. 0. 0. 0. 0. 1. 0.]\nstatus: SUCCESS\n[SolutionSample(x=array([1., 1., 0., 0., 1., 0., 1., 1., 1., 0., 1., 1., 0., 0., 0., 0., 0.,\n       1., 0.]), fval=9.0, probability=1.0, status=<OptimizationResultStatus.SUCCESS: 0>)]\n"
    }
   ],
   "source": [
    "for i in range(0,10):\n",
    "    qp = QuadraticProgram()\n",
    "    qp.read_from_lp_file(\"test.lp\")\n",
    "    dwave_mes = DWaveMinimumEigensolver(num_reads=5000)\n",
    "    optimizer = MinimumEigenOptimizer(dwave_mes)\n",
    "    result = optimizer.solve(qp)\n",
    "    print(result)\n",
    "    print(result.samples)"
   ]
  },
  {
   "cell_type": "code",
   "execution_count": 105,
   "metadata": {},
   "outputs": [
    {
     "output_type": "error",
     "ename": "KeyboardInterrupt",
     "evalue": "",
     "traceback": [
      "\u001b[0;31m---------------------------------------------------------------------------\u001b[0m",
      "\u001b[0;31mKeyboardInterrupt\u001b[0m                         Traceback (most recent call last)",
      "\u001b[0;32m<ipython-input-105-b85bace3a07f>\u001b[0m in \u001b[0;36m<module>\u001b[0;34m\u001b[0m\n\u001b[1;32m      3\u001b[0m \u001b[0mdwave_mes\u001b[0m \u001b[0;34m=\u001b[0m \u001b[0mDWaveMinimumEigensolver\u001b[0m\u001b[0;34m(\u001b[0m\u001b[0mnum_reads\u001b[0m\u001b[0;34m=\u001b[0m\u001b[0;36m2\u001b[0m\u001b[0;34m)\u001b[0m\u001b[0;34m\u001b[0m\u001b[0;34m\u001b[0m\u001b[0m\n\u001b[1;32m      4\u001b[0m \u001b[0moptimizer\u001b[0m \u001b[0;34m=\u001b[0m \u001b[0mMinimumEigenOptimizer\u001b[0m\u001b[0;34m(\u001b[0m\u001b[0mdwave_mes\u001b[0m\u001b[0;34m)\u001b[0m\u001b[0;34m\u001b[0m\u001b[0;34m\u001b[0m\u001b[0m\n\u001b[0;32m----> 5\u001b[0;31m \u001b[0mresult\u001b[0m \u001b[0;34m=\u001b[0m \u001b[0moptimizer\u001b[0m\u001b[0;34m.\u001b[0m\u001b[0msolve\u001b[0m\u001b[0;34m(\u001b[0m\u001b[0mqp\u001b[0m\u001b[0;34m)\u001b[0m\u001b[0;34m\u001b[0m\u001b[0;34m\u001b[0m\u001b[0m\n\u001b[0m\u001b[1;32m      6\u001b[0m \u001b[0mprint\u001b[0m\u001b[0;34m(\u001b[0m\u001b[0mresult\u001b[0m\u001b[0;34m)\u001b[0m\u001b[0;34m\u001b[0m\u001b[0;34m\u001b[0m\u001b[0m\n\u001b[1;32m      7\u001b[0m \u001b[0mprint\u001b[0m\u001b[0;34m(\u001b[0m\u001b[0mresult\u001b[0m\u001b[0;34m.\u001b[0m\u001b[0msamples\u001b[0m\u001b[0;34m)\u001b[0m\u001b[0;34m\u001b[0m\u001b[0;34m\u001b[0m\u001b[0m\n",
      "\u001b[0;32m/workspace/.pip-modules/lib/python3.7/site-packages/qiskit/optimization/algorithms/minimum_eigen_optimizer.py\u001b[0m in \u001b[0;36msolve\u001b[0;34m(self, problem)\u001b[0m\n\u001b[1;32m    186\u001b[0m \u001b[0;34m\u001b[0m\u001b[0m\n\u001b[1;32m    187\u001b[0m         \u001b[0;31m# construct operator and offset\u001b[0m\u001b[0;34m\u001b[0m\u001b[0;34m\u001b[0m\u001b[0;34m\u001b[0m\u001b[0m\n\u001b[0;32m--> 188\u001b[0;31m         \u001b[0moperator\u001b[0m\u001b[0;34m,\u001b[0m \u001b[0moffset\u001b[0m \u001b[0;34m=\u001b[0m \u001b[0mproblem_\u001b[0m\u001b[0;34m.\u001b[0m\u001b[0mto_ising\u001b[0m\u001b[0;34m(\u001b[0m\u001b[0;34m)\u001b[0m\u001b[0;34m\u001b[0m\u001b[0;34m\u001b[0m\u001b[0m\n\u001b[0m\u001b[1;32m    189\u001b[0m \u001b[0;34m\u001b[0m\u001b[0m\n\u001b[1;32m    190\u001b[0m         \u001b[0;31m# only try to solve non-empty Ising Hamiltonians\u001b[0m\u001b[0;34m\u001b[0m\u001b[0;34m\u001b[0m\u001b[0;34m\u001b[0m\u001b[0m\n",
      "\u001b[0;32m/workspace/.pip-modules/lib/python3.7/site-packages/qiskit/optimization/problems/quadratic_program.py\u001b[0m in \u001b[0;36mto_ising\u001b[0;34m(self)\u001b[0m\n\u001b[1;32m   1254\u001b[0m         \u001b[0;31m# appropriate size\u001b[0m\u001b[0;34m\u001b[0m\u001b[0;34m\u001b[0m\u001b[0;34m\u001b[0m\u001b[0m\n\u001b[1;32m   1255\u001b[0m         \u001b[0;32mif\u001b[0m \u001b[0misinstance\u001b[0m\u001b[0;34m(\u001b[0m\u001b[0mqubit_op\u001b[0m\u001b[0;34m,\u001b[0m \u001b[0mOperatorBase\u001b[0m\u001b[0;34m)\u001b[0m\u001b[0;34m:\u001b[0m\u001b[0;34m\u001b[0m\u001b[0;34m\u001b[0m\u001b[0m\n\u001b[0;32m-> 1256\u001b[0;31m             \u001b[0mqubit_op\u001b[0m \u001b[0;34m=\u001b[0m \u001b[0mqubit_op\u001b[0m\u001b[0;34m.\u001b[0m\u001b[0mreduce\u001b[0m\u001b[0;34m(\u001b[0m\u001b[0;34m)\u001b[0m\u001b[0;34m\u001b[0m\u001b[0;34m\u001b[0m\u001b[0m\n\u001b[0m\u001b[1;32m   1257\u001b[0m         \u001b[0;32melse\u001b[0m\u001b[0;34m:\u001b[0m\u001b[0;34m\u001b[0m\u001b[0;34m\u001b[0m\u001b[0m\n\u001b[1;32m   1258\u001b[0m             \u001b[0mqubit_op\u001b[0m \u001b[0;34m=\u001b[0m \u001b[0mI\u001b[0m \u001b[0;34m^\u001b[0m \u001b[0mnum_nodes\u001b[0m\u001b[0;34m\u001b[0m\u001b[0;34m\u001b[0m\u001b[0m\n",
      "\u001b[0;32m/workspace/.pip-modules/lib/python3.7/site-packages/qiskit/aqua/operators/list_ops/summed_op.py\u001b[0m in \u001b[0;36mreduce\u001b[0;34m(self)\u001b[0m\n\u001b[1;32m    126\u001b[0m         \u001b[0;31m# group duplicate operators\u001b[0m\u001b[0;34m\u001b[0m\u001b[0;34m\u001b[0m\u001b[0;34m\u001b[0m\u001b[0m\n\u001b[1;32m    127\u001b[0m         \u001b[0;32mif\u001b[0m \u001b[0misinstance\u001b[0m\u001b[0;34m(\u001b[0m\u001b[0mreduced_ops\u001b[0m\u001b[0;34m,\u001b[0m \u001b[0mSummedOp\u001b[0m\u001b[0;34m)\u001b[0m\u001b[0;34m:\u001b[0m\u001b[0;34m\u001b[0m\u001b[0;34m\u001b[0m\u001b[0m\n\u001b[0;32m--> 128\u001b[0;31m             \u001b[0mreduced_ops\u001b[0m \u001b[0;34m=\u001b[0m \u001b[0mreduced_ops\u001b[0m\u001b[0;34m.\u001b[0m\u001b[0mcollapse_summands\u001b[0m\u001b[0;34m(\u001b[0m\u001b[0;34m)\u001b[0m\u001b[0;34m\u001b[0m\u001b[0;34m\u001b[0m\u001b[0m\n\u001b[0m\u001b[1;32m    129\u001b[0m \u001b[0;34m\u001b[0m\u001b[0m\n\u001b[1;32m    130\u001b[0m         \u001b[0;32mif\u001b[0m \u001b[0misinstance\u001b[0m\u001b[0;34m(\u001b[0m\u001b[0mreduced_ops\u001b[0m\u001b[0;34m,\u001b[0m \u001b[0mSummedOp\u001b[0m\u001b[0;34m)\u001b[0m \u001b[0;32mand\u001b[0m \u001b[0mlen\u001b[0m\u001b[0;34m(\u001b[0m\u001b[0mreduced_ops\u001b[0m\u001b[0;34m.\u001b[0m\u001b[0moplist\u001b[0m\u001b[0;34m)\u001b[0m \u001b[0;34m==\u001b[0m \u001b[0;36m1\u001b[0m\u001b[0;34m:\u001b[0m\u001b[0;34m\u001b[0m\u001b[0;34m\u001b[0m\u001b[0m\n",
      "\u001b[0;32m/workspace/.pip-modules/lib/python3.7/site-packages/qiskit/aqua/operators/list_ops/summed_op.py\u001b[0m in \u001b[0;36mcollapse_summands\u001b[0;34m(self)\u001b[0m\n\u001b[1;32m     96\u001b[0m                 \u001b[0mnew_op\u001b[0m \u001b[0;34m=\u001b[0m \u001b[0mPrimitiveOp\u001b[0m\u001b[0;34m(\u001b[0m\u001b[0mop\u001b[0m\u001b[0;34m.\u001b[0m\u001b[0mprimitive\u001b[0m\u001b[0;34m)\u001b[0m\u001b[0;34m\u001b[0m\u001b[0;34m\u001b[0m\u001b[0m\n\u001b[1;32m     97\u001b[0m                 \u001b[0mnew_coeff\u001b[0m \u001b[0;34m=\u001b[0m \u001b[0mop\u001b[0m\u001b[0;34m.\u001b[0m\u001b[0mcoeff\u001b[0m \u001b[0;34m*\u001b[0m \u001b[0mself\u001b[0m\u001b[0;34m.\u001b[0m\u001b[0mcoeff\u001b[0m\u001b[0;34m\u001b[0m\u001b[0;34m\u001b[0m\u001b[0m\n\u001b[0;32m---> 98\u001b[0;31m                 \u001b[0;32mif\u001b[0m \u001b[0mnew_op\u001b[0m \u001b[0;32min\u001b[0m \u001b[0moplist\u001b[0m\u001b[0;34m:\u001b[0m\u001b[0;34m\u001b[0m\u001b[0;34m\u001b[0m\u001b[0m\n\u001b[0m\u001b[1;32m     99\u001b[0m                     \u001b[0mindex\u001b[0m \u001b[0;34m=\u001b[0m \u001b[0moplist\u001b[0m\u001b[0;34m.\u001b[0m\u001b[0mindex\u001b[0m\u001b[0;34m(\u001b[0m\u001b[0mnew_op\u001b[0m\u001b[0;34m)\u001b[0m\u001b[0;34m\u001b[0m\u001b[0;34m\u001b[0m\u001b[0m\n\u001b[1;32m    100\u001b[0m                     \u001b[0mcoeffs\u001b[0m\u001b[0;34m[\u001b[0m\u001b[0mindex\u001b[0m\u001b[0;34m]\u001b[0m \u001b[0;34m+=\u001b[0m \u001b[0mnew_coeff\u001b[0m\u001b[0;34m\u001b[0m\u001b[0;34m\u001b[0m\u001b[0m\n",
      "\u001b[0;32m/workspace/.pip-modules/lib/python3.7/site-packages/qiskit/aqua/operators/operator_base.py\u001b[0m in \u001b[0;36m__eq__\u001b[0;34m(self, other)\u001b[0m\n\u001b[1;32m    289\u001b[0m         \u001b[0;32mif\u001b[0m \u001b[0;32mnot\u001b[0m \u001b[0misinstance\u001b[0m\u001b[0;34m(\u001b[0m\u001b[0mother\u001b[0m\u001b[0;34m,\u001b[0m \u001b[0mOperatorBase\u001b[0m\u001b[0;34m)\u001b[0m\u001b[0;34m:\u001b[0m\u001b[0;34m\u001b[0m\u001b[0;34m\u001b[0m\u001b[0m\n\u001b[1;32m    290\u001b[0m             \u001b[0;32mreturn\u001b[0m \u001b[0mNotImplemented\u001b[0m\u001b[0;34m\u001b[0m\u001b[0;34m\u001b[0m\u001b[0m\n\u001b[0;32m--> 291\u001b[0;31m         \u001b[0;32mreturn\u001b[0m \u001b[0mself\u001b[0m\u001b[0;34m.\u001b[0m\u001b[0mequals\u001b[0m\u001b[0;34m(\u001b[0m\u001b[0mcast\u001b[0m\u001b[0;34m(\u001b[0m\u001b[0mOperatorBase\u001b[0m\u001b[0;34m,\u001b[0m \u001b[0mother\u001b[0m\u001b[0;34m)\u001b[0m\u001b[0;34m)\u001b[0m\u001b[0;34m\u001b[0m\u001b[0;34m\u001b[0m\u001b[0m\n\u001b[0m\u001b[1;32m    292\u001b[0m \u001b[0;34m\u001b[0m\u001b[0m\n\u001b[1;32m    293\u001b[0m     \u001b[0;34m@\u001b[0m\u001b[0mabstractmethod\u001b[0m\u001b[0;34m\u001b[0m\u001b[0;34m\u001b[0m\u001b[0m\n",
      "\u001b[0;32m/workspace/.pip-modules/lib/python3.7/site-packages/qiskit/aqua/operators/primitive_ops/pauli_op.py\u001b[0m in \u001b[0;36mequals\u001b[0;34m(self, other)\u001b[0m\n\u001b[1;32m     80\u001b[0m             \u001b[0;32mreturn\u001b[0m \u001b[0;32mFalse\u001b[0m\u001b[0;34m\u001b[0m\u001b[0;34m\u001b[0m\u001b[0m\n\u001b[1;32m     81\u001b[0m \u001b[0;34m\u001b[0m\u001b[0m\n\u001b[0;32m---> 82\u001b[0;31m         \u001b[0;32mreturn\u001b[0m \u001b[0mself\u001b[0m\u001b[0;34m.\u001b[0m\u001b[0mprimitive\u001b[0m \u001b[0;34m==\u001b[0m \u001b[0mother\u001b[0m\u001b[0;34m.\u001b[0m\u001b[0mprimitive\u001b[0m\u001b[0;34m\u001b[0m\u001b[0;34m\u001b[0m\u001b[0m\n\u001b[0m\u001b[1;32m     83\u001b[0m \u001b[0;34m\u001b[0m\u001b[0m\n\u001b[1;32m     84\u001b[0m     \u001b[0;32mdef\u001b[0m \u001b[0m_expand_dim\u001b[0m\u001b[0;34m(\u001b[0m\u001b[0mself\u001b[0m\u001b[0;34m,\u001b[0m \u001b[0mnum_qubits\u001b[0m\u001b[0;34m:\u001b[0m \u001b[0mint\u001b[0m\u001b[0;34m)\u001b[0m \u001b[0;34m->\u001b[0m \u001b[0;34m'PauliOp'\u001b[0m\u001b[0;34m:\u001b[0m\u001b[0;34m\u001b[0m\u001b[0;34m\u001b[0m\u001b[0m\n",
      "\u001b[0;32m/workspace/.pip-modules/lib/python3.7/site-packages/qiskit/quantum_info/operators/symplectic/pauli.py\u001b[0m in \u001b[0;36m__eq__\u001b[0;34m(self, other)\u001b[0m\n\u001b[1;32m    228\u001b[0m             \u001b[0;32mreturn\u001b[0m \u001b[0;32mFalse\u001b[0m\u001b[0;34m\u001b[0m\u001b[0;34m\u001b[0m\u001b[0m\n\u001b[1;32m    229\u001b[0m         return (len(self) == len(other)\n\u001b[0;32m--> 230\u001b[0;31m                 \u001b[0;32mand\u001b[0m \u001b[0mnp\u001b[0m\u001b[0;34m.\u001b[0m\u001b[0mall\u001b[0m\u001b[0;34m(\u001b[0m\u001b[0mnp\u001b[0m\u001b[0;34m.\u001b[0m\u001b[0mmod\u001b[0m\u001b[0;34m(\u001b[0m\u001b[0mself\u001b[0m\u001b[0;34m.\u001b[0m\u001b[0m_phase\u001b[0m\u001b[0;34m,\u001b[0m \u001b[0;36m4\u001b[0m\u001b[0;34m)\u001b[0m \u001b[0;34m==\u001b[0m \u001b[0mnp\u001b[0m\u001b[0;34m.\u001b[0m\u001b[0mmod\u001b[0m\u001b[0;34m(\u001b[0m\u001b[0mother\u001b[0m\u001b[0;34m.\u001b[0m\u001b[0m_phase\u001b[0m\u001b[0;34m,\u001b[0m \u001b[0;36m4\u001b[0m\u001b[0;34m)\u001b[0m\u001b[0;34m)\u001b[0m\u001b[0;34m\u001b[0m\u001b[0;34m\u001b[0m\u001b[0m\n\u001b[0m\u001b[1;32m    231\u001b[0m                 \u001b[0;32mand\u001b[0m \u001b[0mnp\u001b[0m\u001b[0;34m.\u001b[0m\u001b[0mall\u001b[0m\u001b[0;34m(\u001b[0m\u001b[0mself\u001b[0m\u001b[0;34m.\u001b[0m\u001b[0m_z\u001b[0m \u001b[0;34m==\u001b[0m \u001b[0mother\u001b[0m\u001b[0;34m.\u001b[0m\u001b[0m_z\u001b[0m\u001b[0;34m)\u001b[0m\u001b[0;34m\u001b[0m\u001b[0;34m\u001b[0m\u001b[0m\n\u001b[1;32m    232\u001b[0m                 and np.all(self._x == other._x))\n",
      "\u001b[0;32m<__array_function__ internals>\u001b[0m in \u001b[0;36mall\u001b[0;34m(*args, **kwargs)\u001b[0m\n",
      "\u001b[0;32m/usr/local/lib/python3.7/site-packages/numpy/core/fromnumeric.py\u001b[0m in \u001b[0;36mall\u001b[0;34m(a, axis, out, keepdims)\u001b[0m\n\u001b[1;32m   2409\u001b[0m \u001b[0;34m\u001b[0m\u001b[0m\n\u001b[1;32m   2410\u001b[0m     \"\"\"\n\u001b[0;32m-> 2411\u001b[0;31m     \u001b[0;32mreturn\u001b[0m \u001b[0m_wrapreduction\u001b[0m\u001b[0;34m(\u001b[0m\u001b[0ma\u001b[0m\u001b[0;34m,\u001b[0m \u001b[0mnp\u001b[0m\u001b[0;34m.\u001b[0m\u001b[0mlogical_and\u001b[0m\u001b[0;34m,\u001b[0m \u001b[0;34m'all'\u001b[0m\u001b[0;34m,\u001b[0m \u001b[0maxis\u001b[0m\u001b[0;34m,\u001b[0m \u001b[0;32mNone\u001b[0m\u001b[0;34m,\u001b[0m \u001b[0mout\u001b[0m\u001b[0;34m,\u001b[0m \u001b[0mkeepdims\u001b[0m\u001b[0;34m=\u001b[0m\u001b[0mkeepdims\u001b[0m\u001b[0;34m)\u001b[0m\u001b[0;34m\u001b[0m\u001b[0;34m\u001b[0m\u001b[0m\n\u001b[0m\u001b[1;32m   2412\u001b[0m \u001b[0;34m\u001b[0m\u001b[0m\n\u001b[1;32m   2413\u001b[0m \u001b[0;34m\u001b[0m\u001b[0m\n",
      "\u001b[0;32m/usr/local/lib/python3.7/site-packages/numpy/core/fromnumeric.py\u001b[0m in \u001b[0;36m_wrapreduction\u001b[0;34m(obj, ufunc, method, axis, dtype, out, **kwargs)\u001b[0m\n\u001b[1;32m     85\u001b[0m                 \u001b[0;32mreturn\u001b[0m \u001b[0mreduction\u001b[0m\u001b[0;34m(\u001b[0m\u001b[0maxis\u001b[0m\u001b[0;34m=\u001b[0m\u001b[0maxis\u001b[0m\u001b[0;34m,\u001b[0m \u001b[0mout\u001b[0m\u001b[0;34m=\u001b[0m\u001b[0mout\u001b[0m\u001b[0;34m,\u001b[0m \u001b[0;34m**\u001b[0m\u001b[0mpasskwargs\u001b[0m\u001b[0;34m)\u001b[0m\u001b[0;34m\u001b[0m\u001b[0;34m\u001b[0m\u001b[0m\n\u001b[1;32m     86\u001b[0m \u001b[0;34m\u001b[0m\u001b[0m\n\u001b[0;32m---> 87\u001b[0;31m     \u001b[0;32mreturn\u001b[0m \u001b[0mufunc\u001b[0m\u001b[0;34m.\u001b[0m\u001b[0mreduce\u001b[0m\u001b[0;34m(\u001b[0m\u001b[0mobj\u001b[0m\u001b[0;34m,\u001b[0m \u001b[0maxis\u001b[0m\u001b[0;34m,\u001b[0m \u001b[0mdtype\u001b[0m\u001b[0;34m,\u001b[0m \u001b[0mout\u001b[0m\u001b[0;34m,\u001b[0m \u001b[0;34m**\u001b[0m\u001b[0mpasskwargs\u001b[0m\u001b[0;34m)\u001b[0m\u001b[0;34m\u001b[0m\u001b[0;34m\u001b[0m\u001b[0m\n\u001b[0m\u001b[1;32m     88\u001b[0m \u001b[0;34m\u001b[0m\u001b[0m\n\u001b[1;32m     89\u001b[0m \u001b[0;34m\u001b[0m\u001b[0m\n",
      "\u001b[0;31mKeyboardInterrupt\u001b[0m: "
     ]
    }
   ],
   "source": [
    "qp = QuadraticProgram()\n",
    "qp.read_from_lp_file(\"4-bit_S_box.lp\")\n",
    "dwave_mes = DWaveMinimumEigensolver(num_reads=2)\n",
    "optimizer = MinimumEigenOptimizer(dwave_mes)\n",
    "result = optimizer.solve(qp)\n",
    "print(result)\n",
    "print(result.samples)"
   ]
  },
  {
   "cell_type": "code",
   "execution_count": 23,
   "metadata": {},
   "outputs": [
    {
     "output_type": "stream",
     "name": "stdout",
     "text": "optimal function value: 7.0\noptimal value: [1. 1. 1. 1. 1. 1. 0. 1.]\nstatus: SUCCESS\n[SolutionSample(x=array([1., 1., 1., 1., 1., 1., 0., 1.]), fval=7.0, probability=0.22500000000000006, status=<OptimizationResultStatus.SUCCESS: 0>), SolutionSample(x=array([1., 1., 1., 0., 1., 1., 1., 1.]), fval=7.0, probability=0.7750000000000001, status=<OptimizationResultStatus.SUCCESS: 0>)]\noptimal function value: 7.0\noptimal value: [1. 1. 1. 0. 1. 1. 1. 1.]\nstatus: SUCCESS\n[SolutionSample(x=array([1., 1., 1., 0., 1., 1., 1., 1.]), fval=7.0, probability=0.09243697478991596, status=<OptimizationResultStatus.SUCCESS: 0>), SolutionSample(x=array([1., 1., 1., 1., 1., 1., 0., 1.]), fval=7.0, probability=0.9075630252100843, status=<OptimizationResultStatus.SUCCESS: 0>)]\noptimal function value: 7.0\noptimal value: [1. 1. 1. 1. 1. 1. 0. 1.]\nstatus: SUCCESS\n[SolutionSample(x=array([1., 1., 1., 1., 1., 1., 0., 1.]), fval=7.0, probability=0.6011235955056181, status=<OptimizationResultStatus.SUCCESS: 0>), SolutionSample(x=array([1., 1., 1., 0., 1., 1., 1., 1.]), fval=7.0, probability=0.3988764044943821, status=<OptimizationResultStatus.SUCCESS: 0>)]\noptimal function value: 7.0\noptimal value: [1. 1. 1. 1. 1. 1. 0. 1.]\nstatus: SUCCESS\n[SolutionSample(x=array([1., 1., 1., 1., 1., 1., 0., 1.]), fval=7.0, probability=0.38095238095238104, status=<OptimizationResultStatus.SUCCESS: 0>), SolutionSample(x=array([1., 1., 1., 0., 1., 1., 1., 1.]), fval=7.0, probability=0.6190476190476192, status=<OptimizationResultStatus.SUCCESS: 0>)]\noptimal function value: 7.0\noptimal value: [1. 1. 1. 1. 1. 1. 0. 1.]\nstatus: SUCCESS\n[SolutionSample(x=array([1., 1., 1., 1., 1., 1., 0., 1.]), fval=7.0, probability=0.5369458128078818, status=<OptimizationResultStatus.SUCCESS: 0>), SolutionSample(x=array([1., 1., 1., 0., 1., 1., 1., 1.]), fval=7.0, probability=0.4630541871921181, status=<OptimizationResultStatus.SUCCESS: 0>)]\noptimal function value: 7.0\noptimal value: [1. 1. 1. 0. 1. 1. 1. 1.]\nstatus: SUCCESS\n[SolutionSample(x=array([1., 1., 1., 0., 1., 1., 1., 1.]), fval=7.0, probability=0.14018691588785046, status=<OptimizationResultStatus.SUCCESS: 0>), SolutionSample(x=array([1., 1., 1., 1., 1., 1., 0., 1.]), fval=7.0, probability=0.8598130841121493, status=<OptimizationResultStatus.SUCCESS: 0>)]\noptimal function value: 7.0\noptimal value: [1. 1. 1. 0. 1. 1. 1. 1.]\nstatus: SUCCESS\n[SolutionSample(x=array([1., 1., 1., 0., 1., 1., 1., 1.]), fval=7.0, probability=0.41474654377880177, status=<OptimizationResultStatus.SUCCESS: 0>), SolutionSample(x=array([1., 1., 1., 1., 1., 1., 0., 1.]), fval=7.0, probability=0.5852534562211982, status=<OptimizationResultStatus.SUCCESS: 0>)]\noptimal function value: 7.0\noptimal value: [1. 1. 1. 0. 1. 1. 1. 1.]\nstatus: SUCCESS\n[SolutionSample(x=array([1., 1., 1., 0., 1., 1., 1., 1.]), fval=7.0, probability=0.9335989375830008, status=<OptimizationResultStatus.SUCCESS: 0>), SolutionSample(x=array([1., 1., 1., 1., 1., 1., 0., 1.]), fval=7.0, probability=0.06640106241699864, status=<OptimizationResultStatus.SUCCESS: 0>)]\noptimal function value: 7.0\noptimal value: [1. 1. 1. 1. 1. 1. 0. 1.]\nstatus: SUCCESS\n[SolutionSample(x=array([1., 1., 1., 1., 1., 1., 0., 1.]), fval=7.0, probability=0.4372469635627529, status=<OptimizationResultStatus.SUCCESS: 0>), SolutionSample(x=array([1., 1., 1., 0., 1., 1., 1., 1.]), fval=7.0, probability=0.5627530364372471, status=<OptimizationResultStatus.SUCCESS: 0>)]\noptimal function value: 7.0\noptimal value: [1. 1. 1. 1. 1. 1. 0. 1.]\nstatus: SUCCESS\n[SolutionSample(x=array([1., 1., 1., 1., 1., 1., 0., 1.]), fval=7.0, probability=0.3074935400516795, status=<OptimizationResultStatus.SUCCESS: 0>), SolutionSample(x=array([1., 1., 1., 0., 1., 1., 1., 1.]), fval=7.0, probability=0.6925064599483204, status=<OptimizationResultStatus.SUCCESS: 0>)]\n"
    }
   ],
   "source": [
    "for i in range(0,10):\n",
    "    qp = QuadraticProgram()\n",
    "    qp.read_from_lp_file(\"3-bit_S_box_small.lp\")\n",
    "    dwave_mes = DWaveMinimumEigensolver(num_reads=5000)\n",
    "    optimizer = MinimumEigenOptimizer(dwave_mes)\n",
    "    result = optimizer.solve(qp)\n",
    "    print(result)\n",
    "    print(result.samples)"
   ]
  },
  {
   "cell_type": "code",
   "execution_count": 16,
   "metadata": {},
   "outputs": [
    {
     "output_type": "stream",
     "name": "stdout",
     "text": "/workspace/quantum_linear_programming/notebooks\n"
    }
   ],
   "source": [
    "cd /workspace/quantum_linear_programming/notebooks/"
   ]
  },
  {
   "cell_type": "code",
   "execution_count": 1,
   "metadata": {},
   "outputs": [
    {
     "output_type": "error",
     "ename": "NameError",
     "evalue": "name 'qp' is not defined",
     "traceback": [
      "\u001b[0;31m---------------------------------------------------------------------------\u001b[0m",
      "\u001b[0;31mNameError\u001b[0m                                 Traceback (most recent call last)",
      "\u001b[0;32m<ipython-input-1-17361e8857ed>\u001b[0m in \u001b[0;36m<module>\u001b[0;34m\u001b[0m\n\u001b[0;32m----> 1\u001b[0;31m \u001b[0mqp\u001b[0m\u001b[0;34m\u001b[0m\u001b[0;34m\u001b[0m\u001b[0m\n\u001b[0m",
      "\u001b[0;31mNameError\u001b[0m: name 'qp' is not defined"
     ]
    }
   ],
   "source": [
    "qp"
   ]
  },
  {
   "cell_type": "code",
   "execution_count": 13,
   "metadata": {},
   "outputs": [],
   "source": [
    "qp = QuadraticProgram()\n",
    "qp.read_from_lp_file(\"3-bit_S_box_small.lp\")\n",
    "dwave_mes = DWaveMinimumEigensolver(num_reads=5000)\n",
    "optimizer = MinimumEigenOptimizer(dwave_mes)\n",
    ""
   ]
  },
  {
   "cell_type": "code",
   "execution_count": 14,
   "metadata": {},
   "outputs": [
    {
     "output_type": "execute_result",
     "data": {
      "text/plain": "\\ This file has been generated by DOcplex\n\\ ENCODING=ISO-8859-1\n\\Problem name: 3-bit_S_box_small\n\nMinimize\n obj: z0 + z1 + z2 + z3 + z4 + z5 + z6 + z7\nSubject To\n c1: z4 + z5 >= 1\n c2: z5 + z6 >= 1\n c3: z4 + z5 + z6 >= 1\n c4: z2 + z5 >= 1\n c5: z5 >= 1\n c6: z2 + z5 + z6 >= 1\n c7: z5 >= 1\n c8: z7 >= 1\n c9: z4 + z7 >= 1\n c10: z4 + z5 >= 1\n c11: z2 + z7 >= 1\n c12: z2 + z5 >= 1\n c13: z5 >= 1\n c14: z3 + z7 >= 1\n c15: z3 + z4 + z7 >= 1\n c16: z3 + z6 >= 1\n c17: z3 + z4 + z6 >= 1\n c18: z2 + z3 + z7 >= 1\n c19: z2 + z3 + z6 >= 1\n c20: z7 >= 1\n c21: z4 + z7 >= 1\n c22: z4 >= 1\n c23: z2 + z7 >= 1\n c24: z7 >= 1\n c25: z2 >= 1\n c26: z1 >= 1\n c27: z1 + z6 >= 1\n c28: z0 >= 1\n c29: z0 + z5 >= 1\n c30: z1 >= 1\n c31: z1 >= 1\n c32: z0 >= 1\n c33: z0 >= 1\n c34: z1 + z3 >= 1\n c35: z1 + z3 + z6 >= 1\n c36: z0 >= 1\n c37: z0 >= 1\n c38: z1 + z7 >= 1\n c39: z1 >= 1\n c40: z0 >= 1\n c41: z0 >= 1\n\nBounds\n 0 <= z0 <= 1\n 0 <= z1 <= 1\n 0 <= z2 <= 1\n 0 <= z3 <= 1\n 0 <= z4 <= 1\n 0 <= z5 <= 1\n 0 <= z6 <= 1\n 0 <= z7 <= 1\n\nBinaries\n z0 z1 z2 z3 z4 z5 z6 z7\nEnd"
     },
     "metadata": {},
     "execution_count": 14
    }
   ],
   "source": [
    "qp"
   ]
  },
  {
   "cell_type": "code",
   "execution_count": 19,
   "metadata": {},
   "outputs": [
    {
     "output_type": "error",
     "ename": "QiskitOptimizationError",
     "evalue": "'An constraint exists. The method supports only model with no constraints. Use a QuadraticProgramToQubo converter. It converts inequality constraints to equality constraints, and then, it converters equality constraints to penalty terms of the object function.'",
     "traceback": [
      "\u001b[0;31m---------------------------------------------------------------------------\u001b[0m",
      "\u001b[0;31mQiskitOptimizationError\u001b[0m                   Traceback (most recent call last)",
      "\u001b[0;32m<ipython-input-19-a23404d9aabd>\u001b[0m in \u001b[0;36m<module>\u001b[0;34m\u001b[0m\n\u001b[0;32m----> 1\u001b[0;31m \u001b[0mqp\u001b[0m\u001b[0;34m.\u001b[0m\u001b[0mto_ising\u001b[0m\u001b[0;34m(\u001b[0m\u001b[0;34m)\u001b[0m\u001b[0;34m\u001b[0m\u001b[0;34m\u001b[0m\u001b[0m\n\u001b[0m",
      "\u001b[0;32m/workspace/.pip-modules/lib/python3.7/site-packages/qiskit/optimization/problems/quadratic_program.py\u001b[0m in \u001b[0;36mto_ising\u001b[0;34m(self)\u001b[0m\n\u001b[1;32m   1187\u001b[0m         \u001b[0;32mif\u001b[0m \u001b[0mself\u001b[0m\u001b[0;34m.\u001b[0m\u001b[0mlinear_constraints\u001b[0m\u001b[0;31m \u001b[0m\u001b[0;31m\\\u001b[0m\u001b[0;34m\u001b[0m\u001b[0;34m\u001b[0m\u001b[0m\n\u001b[1;32m   1188\u001b[0m                 \u001b[0;32mor\u001b[0m \u001b[0mself\u001b[0m\u001b[0;34m.\u001b[0m\u001b[0mquadratic_constraints\u001b[0m\u001b[0;34m:\u001b[0m\u001b[0;34m\u001b[0m\u001b[0;34m\u001b[0m\u001b[0m\n\u001b[0;32m-> 1189\u001b[0;31m             raise QiskitOptimizationError('An constraint exists. '\n\u001b[0m\u001b[1;32m   1190\u001b[0m                                           \u001b[0;34m'The method supports only model with no constraints. '\u001b[0m\u001b[0;34m\u001b[0m\u001b[0;34m\u001b[0m\u001b[0m\n\u001b[1;32m   1191\u001b[0m                                           \u001b[0;34m'Use a QuadraticProgramToQubo converter. '\u001b[0m\u001b[0;34m\u001b[0m\u001b[0;34m\u001b[0m\u001b[0m\n",
      "\u001b[0;31mQiskitOptimizationError\u001b[0m: 'An constraint exists. The method supports only model with no constraints. Use a QuadraticProgramToQubo converter. It converts inequality constraints to equality constraints, and then, it converters equality constraints to penalty terms of the object function.'"
     ]
    }
   ],
   "source": [
    "qp.to_ising()"
   ]
  },
  {
   "cell_type": "code",
   "execution_count": null,
   "metadata": {},
   "outputs": [],
   "source": []
  }
 ]
}